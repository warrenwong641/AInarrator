{
 "cells": [
  {
   "cell_type": "code",
   "execution_count": null,
   "id": "379435cf-85df-4e5d-8b14-08294e6483c4",
   "metadata": {
    "tags": []
   },
   "outputs": [
    {
     "name": "stdin",
     "output_type": "stream",
     "text": [
      "<+  #systemprompt>you are a beautiful butterfly\n"
     ]
    },
    {
     "name": "stdout",
     "output_type": "stream",
     "text": [
      "['you are a beautiful butterfly']\n"
     ]
    },
    {
     "name": "stdin",
     "output_type": "stream",
     "text": [
      "<+  #sensorprompt> now, you should turn the story into something very happy\n"
     ]
    },
    {
     "name": "stdout",
     "output_type": "stream",
     "text": [
      "['t> now, you should turn the story into something very happy']\n"
     ]
    },
    {
     "name": "stdin",
     "output_type": "stream",
     "text": [
      "<+  #switching0\n"
     ]
    },
    {
     "name": "stdout",
     "output_type": "stream",
     "text": [
      "currentsystemprompt: you are a beautiful butterfly \n",
      "\n"
     ]
    },
    {
     "name": "stdin",
     "output_type": "stream",
     "text": [
      "<+  #playertext>I want to know more about the topic of bubble tea, please\n"
     ]
    },
    {
     "name": "stdout",
     "output_type": "stream",
     "text": [
      "currentplayerinput: I want to know more about the topic of bubble tea, please \n",
      "\n"
     ]
    },
    {
     "name": "stdin",
     "output_type": "stream",
     "text": [
      "<+  #start0\n"
     ]
    },
    {
     "name": "stdout",
     "output_type": "stream",
     "text": [
      "currentsensorprompt: t> now, you should turn the story into something very happy \n",
      "\n",
      "narrator: Once upon a time in a bustling city, there was a charming bubble tea shop called \"Bubbly Bliss.\" This shop was renowned for its delicious and colorful bubble teas that brought joy to all who tasted them. The shop was owned by a friendly and talented young woman named Lily, who had a passion for creating unique and delightful flavors of bubble tea.\n",
      "\n",
      "Lily's shop was always filled with laughter and happiness as customers from all walks of life came to enjoy her refreshing drinks. The sound of the tapioca pearls popping in the straw and the sweet aroma of the teas filled the air, creating a cozy and inviting atmosphere.\n",
      "\n",
      "Lily took great pride in her craft, constantly experimenting with new ingredients and flavor combinations to surprise and delight her customers. She believed that each bubble tea she made had the power to brighten someone's day and spread a little bit of happiness.\n",
      "\n",
      "One day, a group of friends stumbled upon Bubbly Bliss and were instantly captivated by the array of colorful drinks on display. They eagerly tried different flavors and couldn't help but smile as they sipped on the delicious concoctions.\n",
      "\n",
      "As they sat around a table, chatting and laughing, they realized that it wasn't just the bubble tea that made them happy, but the warm and welcoming atmosphere of the shop and the passion that Lily poured into her creations.\n",
      "\n",
      "From that day on, the friends made it a tradition to visit Bubbly Bliss regularly, not just for the amazing bubble tea, but for the sense of joy and community that Lily had cultivated in her shop.\n",
      "\n",
      "And so, Bubbly Bliss became more than just a place to grab a drink - it became a place where people came together to share moments of happiness, friendship, and love, all thanks to the magical power of bubble tea. \n",
      "\n"
     ]
    }
   ],
   "source": [
    "import openai\n",
    "\n",
    "#currently we can apply our own key, but later need to public this to let user to put their own key\n",
    "openai.api_key = \"sk-f29A4tQuVfHMbdcgqHrNIF3QRVJmbpnrqucE7V7062r4fz8L\"\n",
    "openai.api_base = \"https://api.f2gpt.com/v1\"\n",
    "\n",
    "narratorsystemprompt= \"\"\n",
    "narratorsystempromptlist = []\n",
    "\n",
    "narratorsensorprompt=\"\"\n",
    "narratorsensorpromptlist=[]\n",
    "\n",
    "#this is for simulating the real text input from the player(not the user-author of the interactive narrative) . if the player input is empty, then the system will proceed through \"a viewing lense\"\n",
    "playerinput=\"\"\n",
    "\n",
    "\n",
    "class Agent():   \n",
    "    def __init__(self, agent_name, system_msg, assistant_msg, init_user_msg, respond_length):\n",
    "        self.agent_name = agent_name\n",
    "        self.system_msg = system_msg\n",
    "        self.assistant_msg = assistant_msg\n",
    "        self.init_user_msg = init_user_msg\n",
    "        self.respond_length = respond_length\n",
    "        self.messages = [{\"role\": \"system\", \"content\": system_msg},\n",
    "                         {\"role\": \"assistant\", \"content\": assistant_msg},\n",
    "                         {\"role\": \"user\", \"content\": init_user_msg}]\n",
    "        self.debug_mode = False \n",
    "\n",
    "    def get_completion(self, model=\"gpt-3.5-turbo\", temperature=0.8):\n",
    "        #global total_tokens\n",
    "        messages = self.messages\n",
    "        response = openai.ChatCompletion.create(\n",
    "            model=model,\n",
    "            messages=messages,\n",
    "            temperature=temperature\n",
    "        )\n",
    "        self.messages.append({\"role\": \"assistant\", \"content\": response.choices[0].message[\"content\"]})\n",
    "        self.total_tokens = response.usage[\"total_tokens\"]\n",
    "        #print(\"Total tokens:\", total_tokens)\n",
    "\n",
    "        if self.debug_mode:\n",
    "            #return response\n",
    "            return messages\n",
    "        else:\n",
    "            return response.choices[0].message[\"content\"]\n",
    "\n",
    "\n",
    "#need to test directly modify the agent's system prompt or wake up a new agent\n",
    "narrator = Agent(\"narrator\", \n",
    "                  narratorsystemprompt,\n",
    "                  \"Hi, I'm the narrator.\", \n",
    "                  \"\", \n",
    "                  \"30\")\n",
    "\n",
    "\n",
    "\n",
    "\n",
    "\n",
    "while True:\n",
    "    # listening to user input\n",
    "    user_input = input(\"<+ \")\n",
    "    \n",
    "    # skip if no real input\n",
    "    if not user_input:\n",
    "        continue\n",
    "\n",
    "#---FOR USER/AUTHOR. initial set up--define different system prompt and user prompt    \n",
    "    if user_input.startswith(\"#systemprompt>\"):\n",
    "     narratorsystempromptlist.append(user_input[14:])\n",
    "     print(narratorsystempromptlist)\n",
    "\n",
    "\n",
    "    if user_input.startswith(\"#sensorprompt>\"):\n",
    "     narratorsensorpromptlist.append(user_input[12:])\n",
    "     print(narratorsensorpromptlist)\n",
    "\n",
    "#---FOR PLAYER. for control live play,\n",
    "    #here is simulating the function of switching between different system prompt based on the narrative branching \n",
    "    #later should replace the text input method with the real condition\n",
    "    if user_input.startswith(\"#switching\"):\n",
    "        systempromptindex = user_input[10:]\n",
    "        if systempromptindex.isdigit() and int(systempromptindex) < len(narratorsystempromptlist):\n",
    "            narratorsystemprompt = narratorsystempromptlist[int(systempromptindex)]\n",
    "            print(\"currentsystemprompt:\", narratorsystemprompt, \"\\n\")\n",
    "\n",
    "    #here is simulating the input from the real player\n",
    "    if user_input.startswith(\"#playertext>\"):\n",
    "        playerinput = user_input[12:]\n",
    "        print(\"currentplayerinput:\", playerinput, \"\\n\")\n",
    "\n",
    "    #here is the conversation monitor\n",
    "    if user_input.startswith(\"#start\"):\n",
    "     sensorpromptindex = user_input[6:]\n",
    "     if sensorpromptindex.isdigit() and int(sensorpromptindex) < len(narratorsensorpromptlist):\n",
    "        narratorsensorprompt = narratorsensorpromptlist[int(sensorpromptindex)]\n",
    "        print(\"currentsensorprompt:\", narratorsensorprompt, \"\\n\")\n",
    "        narrator.debug_mode = False\n",
    "        narrator.messages.append({\"role\": \"system\", \"content\": narratorsystemprompt})\n",
    "        narrator.messages.append({\"role\": \"user\", \"content\": narratorsensorprompt + playerinput})\n",
    "        narrator_response = narrator.get_completion()\n",
    "        print(\"narrator:\", narrator_response, \"\\n\")\n",
    "     else:\n",
    "        print(\"Invalid index!\")\n",
    "\n",
    "    if user_input == \"DEBUG\":\n",
    "        narrator.debug_mode = True\n",
    "        narrator_response = narrator.get_completion()\n",
    "        print(\"\\n narratorhistory:\")\n",
    "        print(narrator_response)\n",
    "        narrator.debug_mode = False\n",
    "\n"
   ]
  },
  {
   "cell_type": "code",
   "execution_count": 1,
   "id": "a46c1aee-c53e-4b77-a194-c69addd7d7ad",
   "metadata": {
    "tags": []
   },
   "outputs": [
    {
     "name": "stdout",
     "output_type": "stream",
     "text": [
      "Requirement already satisfied: Flask in c:\\users\\user\\anaconda3\\lib\\site-packages (2.2.2)Note: you may need to restart the kernel to use updated packages.\n",
      "\n",
      "Requirement already satisfied: Werkzeug>=2.2.2 in c:\\users\\user\\anaconda3\\lib\\site-packages (from Flask) (2.2.3)\n",
      "Requirement already satisfied: Jinja2>=3.0 in c:\\users\\user\\anaconda3\\lib\\site-packages (from Flask) (3.1.2)\n",
      "Requirement already satisfied: itsdangerous>=2.0 in c:\\users\\user\\anaconda3\\lib\\site-packages (from Flask) (2.0.1)\n",
      "Requirement already satisfied: click>=8.0 in c:\\users\\user\\anaconda3\\lib\\site-packages (from Flask) (8.0.4)\n",
      "Requirement already satisfied: colorama in c:\\users\\user\\anaconda3\\lib\\site-packages (from click>=8.0->Flask) (0.4.6)\n",
      "Requirement already satisfied: MarkupSafe>=2.0 in c:\\users\\user\\anaconda3\\lib\\site-packages (from Jinja2>=3.0->Flask) (2.1.1)\n"
     ]
    }
   ],
   "source": [
    " python app.py"
   ]
  }
 ],
 "metadata": {
  "kernelspec": {
   "display_name": "Python 3 (ipykernel)",
   "language": "python",
   "name": "python3"
  },
  "language_info": {
   "codemirror_mode": {
    "name": "ipython",
    "version": 3
   },
   "file_extension": ".py",
   "mimetype": "text/x-python",
   "name": "python",
   "nbconvert_exporter": "python",
   "pygments_lexer": "ipython3",
   "version": "3.11.4"
  }
 },
 "nbformat": 4,
 "nbformat_minor": 5
}
